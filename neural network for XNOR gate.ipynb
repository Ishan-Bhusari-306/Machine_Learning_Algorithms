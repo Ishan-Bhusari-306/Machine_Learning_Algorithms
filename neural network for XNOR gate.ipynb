{
 "cells": [
  {
   "cell_type": "code",
   "execution_count": 1,
   "metadata": {},
   "outputs": [],
   "source": [
    "import numpy as np"
   ]
  },
  {
   "cell_type": "code",
   "execution_count": 2,
   "metadata": {},
   "outputs": [],
   "source": [
    "def sigmoid(x):\n",
    "    return (1/(1+np.exp(-x)))"
   ]
  },
  {
   "cell_type": "code",
   "execution_count": 3,
   "metadata": {},
   "outputs": [],
   "source": [
    "def insert_bias(x):\n",
    "    return np.insert(x,0,[[1]],axis=0)"
   ]
  },
  {
   "cell_type": "markdown",
   "metadata": {},
   "source": [
    "## nueron for AND function:-"
   ]
  },
  {
   "cell_type": "code",
   "execution_count": 4,
   "metadata": {},
   "outputs": [],
   "source": [
    "def AND(input_features):\n",
    "    input_features=insert_bias(input_features)\n",
    "    layer_parameters=np.array([[-30,20,20]])\n",
    "    activation_unit = sigmoid(layer_parameters.dot(input_features))\n",
    "    return activation_unit"
   ]
  },
  {
   "cell_type": "markdown",
   "metadata": {},
   "source": [
    "## nueron for OR function"
   ]
  },
  {
   "cell_type": "code",
   "execution_count": 5,
   "metadata": {},
   "outputs": [],
   "source": [
    "def OR(input_features):\n",
    "    input_features=insert_bias(input_features)\n",
    "    layer_parameters=np.array([[-10,20,20]])\n",
    "    activation_unit = sigmoid(layer_parameters.dot(input_features))\n",
    "    return activation_unit"
   ]
  },
  {
   "cell_type": "markdown",
   "metadata": {},
   "source": [
    "## nueron for NOT function:- "
   ]
  },
  {
   "cell_type": "code",
   "execution_count": 6,
   "metadata": {},
   "outputs": [],
   "source": [
    "def NOT_AND_NOT(input_features):\n",
    "    input_features=insert_bias(input_features)\n",
    "    layer_2_parameters=np.array([[10,-20,-20]])\n",
    "    activation_unit = sigmoid(layer_2_parameters.dot(input_features))\n",
    "    return activation_unit"
   ]
  },
  {
   "cell_type": "code",
   "execution_count": 7,
   "metadata": {},
   "outputs": [
    {
     "name": "stdout",
     "output_type": "stream",
     "text": [
      "AND operations truth table:-  [[9.35762297e-14]] [[4.53978687e-05]] [[4.53978687e-05]] [[0.9999546]]\n",
      "OR operations truth table:-  [[4.53978687e-05]] [[0.9999546]] [[0.9999546]] [[1.]]\n",
      "NOT_AND_NOT operations truth table:-  [[0.9999546]] [[4.53978687e-05]] [[4.53978687e-05]] [[9.35762297e-14]]\n"
     ]
    }
   ],
   "source": [
    "print(\"AND operations truth table:- \",AND(np.array([[0],[0]])),AND(np.array([[0],[1]])),AND(np.array([[1],[0]])),AND(np.array([[1],[1]])))\n",
    "print(\"OR operations truth table:- \",OR(np.array([[0],[0]])),OR(np.array([[0],[1]])),OR(np.array([[1],[0]])),OR(np.array([[1],[1]])))\n",
    "print(\"NOT_AND_NOT operations truth table:- \",NOT_AND_NOT(np.array([[0],[0]])),NOT_AND_NOT(np.array([[0],[1]])),NOT_AND_NOT(np.array([[1],[0]])),NOT_AND_NOT(np.array([[1],[1]])))\n"
   ]
  },
  {
   "cell_type": "code",
   "execution_count": 8,
   "metadata": {},
   "outputs": [],
   "source": [
    "x1=1\n",
    "x2=0\n",
    "input_features=np.array([[x1],[x2]])"
   ]
  },
  {
   "cell_type": "code",
   "execution_count": 10,
   "metadata": {},
   "outputs": [
    {
     "name": "stdout",
     "output_type": "stream",
     "text": [
      "AND operations :-  [[0.0000454]]\n",
      "OR operations :-  [[0.9999546]]\n",
      "activation_layer_2:-  [[0.0000454]\n",
      " [0.9999546]]\n",
      "XOR operations:-  [[0.0000454]]\n",
      "[[0.0000454]]\n"
     ]
    }
   ],
   "source": [
    "a_sup2_u1=AND(input_features)\n",
    "print(\"AND operations :- \",a_sup2_u1)\n",
    "\n",
    "a_sup2_u2=OR(input_features)\n",
    "print(\"OR operations :- \",a_sup2_u2)\n",
    "\n",
    "activation_layer_2=np.append(a_sup2_u1,a_sup2_u2,axis=0)\n",
    "print(\"activation_layer_2:- \",activation_layer_2)\n",
    "\n",
    "a_sup3_u1=NOT_AND_NOT(activation_layer_2)\n",
    "print(\"XOR operations:- \",a_sup3_u1)\n",
    "\n",
    "\n",
    "np.set_printoptions(suppress=True)\n",
    "\n",
    "\n",
    "print(a_sup3_u1)"
   ]
  },
  {
   "cell_type": "code",
   "execution_count": null,
   "metadata": {},
   "outputs": [],
   "source": []
  },
  {
   "cell_type": "code",
   "execution_count": null,
   "metadata": {},
   "outputs": [],
   "source": []
  }
 ],
 "metadata": {
  "kernelspec": {
   "display_name": "Python 3",
   "language": "python",
   "name": "python3"
  },
  "language_info": {
   "codemirror_mode": {
    "name": "ipython",
    "version": 3
   },
   "file_extension": ".py",
   "mimetype": "text/x-python",
   "name": "python",
   "nbconvert_exporter": "python",
   "pygments_lexer": "ipython3",
   "version": "3.7.4"
  }
 },
 "nbformat": 4,
 "nbformat_minor": 2
}
