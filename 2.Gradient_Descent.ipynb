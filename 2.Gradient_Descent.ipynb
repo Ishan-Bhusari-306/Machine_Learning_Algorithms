{
 "cells": [
  {
   "cell_type": "markdown",
   "metadata": {},
   "source": [
    "## importing libraries:-\n"
   ]
  },
  {
   "cell_type": "code",
   "execution_count": 1,
   "metadata": {},
   "outputs": [],
   "source": [
    "import numpy as np\n",
    "import pandas as pd"
   ]
  },
  {
   "cell_type": "markdown",
   "metadata": {},
   "source": [
    "## Gradient Descent:- "
   ]
  },
  {
   "cell_type": "code",
   "execution_count": 2,
   "metadata": {},
   "outputs": [],
   "source": [
    "def calculate_cost(theta,x,y):\n",
    "    m=len(y)\n",
    "    prediction=x.dot(theta)\n",
    "    cost=(1/2*m)*np.sum(np.square(prediction-y))\n",
    "    return cost\n",
    "\n",
    "\n",
    "def gradient_descent(X,y,theta,rate,iterations):\n",
    "    m=len(y)\n",
    "    for it in range(iterations):\n",
    "        predictions=x.dot(theta)\n",
    "        theta=theta-(1/m)*rate*(X.T.dot(predictions-y))\n",
    "    final_cost=calculate_cost(theta,X,y)\n",
    "    return theta,final_cost"
   ]
  },
  {
   "cell_type": "markdown",
   "metadata": {},
   "source": [
    "## applying the gradient descent algorithm on data ( adding biases on my own )"
   ]
  },
  {
   "cell_type": "code",
   "execution_count": 3,
   "metadata": {},
   "outputs": [
    {
     "data": {
      "text/html": [
       "<div>\n",
       "<style scoped>\n",
       "    .dataframe tbody tr th:only-of-type {\n",
       "        vertical-align: middle;\n",
       "    }\n",
       "\n",
       "    .dataframe tbody tr th {\n",
       "        vertical-align: top;\n",
       "    }\n",
       "\n",
       "    .dataframe thead th {\n",
       "        text-align: right;\n",
       "    }\n",
       "</style>\n",
       "<table border=\"1\" class=\"dataframe\">\n",
       "  <thead>\n",
       "    <tr style=\"text-align: right;\">\n",
       "      <th></th>\n",
       "      <th>price</th>\n",
       "      <th>size</th>\n",
       "      <th>year</th>\n",
       "      <th>view</th>\n",
       "    </tr>\n",
       "  </thead>\n",
       "  <tbody>\n",
       "    <tr>\n",
       "      <td>0</td>\n",
       "      <td>234314.144</td>\n",
       "      <td>643.09</td>\n",
       "      <td>2015</td>\n",
       "      <td>No sea view</td>\n",
       "    </tr>\n",
       "    <tr>\n",
       "      <td>1</td>\n",
       "      <td>228581.528</td>\n",
       "      <td>656.22</td>\n",
       "      <td>2009</td>\n",
       "      <td>No sea view</td>\n",
       "    </tr>\n",
       "    <tr>\n",
       "      <td>2</td>\n",
       "      <td>281626.336</td>\n",
       "      <td>487.29</td>\n",
       "      <td>2018</td>\n",
       "      <td>Sea view</td>\n",
       "    </tr>\n",
       "    <tr>\n",
       "      <td>3</td>\n",
       "      <td>401255.608</td>\n",
       "      <td>1504.75</td>\n",
       "      <td>2015</td>\n",
       "      <td>No sea view</td>\n",
       "    </tr>\n",
       "    <tr>\n",
       "      <td>4</td>\n",
       "      <td>458674.256</td>\n",
       "      <td>1275.46</td>\n",
       "      <td>2009</td>\n",
       "      <td>Sea view</td>\n",
       "    </tr>\n",
       "  </tbody>\n",
       "</table>\n",
       "</div>"
      ],
      "text/plain": [
       "        price     size  year         view\n",
       "0  234314.144   643.09  2015  No sea view\n",
       "1  228581.528   656.22  2009  No sea view\n",
       "2  281626.336   487.29  2018     Sea view\n",
       "3  401255.608  1504.75  2015  No sea view\n",
       "4  458674.256  1275.46  2009     Sea view"
      ]
     },
     "execution_count": 3,
     "metadata": {},
     "output_type": "execute_result"
    }
   ],
   "source": [
    "data=pd.read_csv(\"real_estate_price_size_year_view.csv\")\n",
    "data.head()"
   ]
  },
  {
   "cell_type": "code",
   "execution_count": 4,
   "metadata": {},
   "outputs": [],
   "source": [
    "data[\"view\"]=data[\"view\"].map({\"No sea view\":0,\"Sea view\":1})"
   ]
  },
  {
   "cell_type": "code",
   "execution_count": 5,
   "metadata": {},
   "outputs": [
    {
     "data": {
      "text/html": [
       "<div>\n",
       "<style scoped>\n",
       "    .dataframe tbody tr th:only-of-type {\n",
       "        vertical-align: middle;\n",
       "    }\n",
       "\n",
       "    .dataframe tbody tr th {\n",
       "        vertical-align: top;\n",
       "    }\n",
       "\n",
       "    .dataframe thead th {\n",
       "        text-align: right;\n",
       "    }\n",
       "</style>\n",
       "<table border=\"1\" class=\"dataframe\">\n",
       "  <thead>\n",
       "    <tr style=\"text-align: right;\">\n",
       "      <th></th>\n",
       "      <th>price</th>\n",
       "      <th>size</th>\n",
       "      <th>year</th>\n",
       "      <th>view</th>\n",
       "    </tr>\n",
       "  </thead>\n",
       "  <tbody>\n",
       "    <tr>\n",
       "      <td>0</td>\n",
       "      <td>234314.144</td>\n",
       "      <td>643.09</td>\n",
       "      <td>2015</td>\n",
       "      <td>0</td>\n",
       "    </tr>\n",
       "    <tr>\n",
       "      <td>1</td>\n",
       "      <td>228581.528</td>\n",
       "      <td>656.22</td>\n",
       "      <td>2009</td>\n",
       "      <td>0</td>\n",
       "    </tr>\n",
       "    <tr>\n",
       "      <td>2</td>\n",
       "      <td>281626.336</td>\n",
       "      <td>487.29</td>\n",
       "      <td>2018</td>\n",
       "      <td>1</td>\n",
       "    </tr>\n",
       "    <tr>\n",
       "      <td>3</td>\n",
       "      <td>401255.608</td>\n",
       "      <td>1504.75</td>\n",
       "      <td>2015</td>\n",
       "      <td>0</td>\n",
       "    </tr>\n",
       "    <tr>\n",
       "      <td>4</td>\n",
       "      <td>458674.256</td>\n",
       "      <td>1275.46</td>\n",
       "      <td>2009</td>\n",
       "      <td>1</td>\n",
       "    </tr>\n",
       "  </tbody>\n",
       "</table>\n",
       "</div>"
      ],
      "text/plain": [
       "        price     size  year  view\n",
       "0  234314.144   643.09  2015     0\n",
       "1  228581.528   656.22  2009     0\n",
       "2  281626.336   487.29  2018     1\n",
       "3  401255.608  1504.75  2015     0\n",
       "4  458674.256  1275.46  2009     1"
      ]
     },
     "execution_count": 5,
     "metadata": {},
     "output_type": "execute_result"
    }
   ],
   "source": [
    "data.head()"
   ]
  },
  {
   "cell_type": "code",
   "execution_count": 6,
   "metadata": {},
   "outputs": [
    {
     "data": {
      "text/plain": [
       "100"
      ]
     },
     "execution_count": 6,
     "metadata": {},
     "output_type": "execute_result"
    }
   ],
   "source": [
    "rows=data.shape[0]\n",
    "rows"
   ]
  },
  {
   "cell_type": "code",
   "execution_count": 7,
   "metadata": {},
   "outputs": [],
   "source": [
    "data[\"ones\"]=pd.DataFrame(np.ones((rows,1)))"
   ]
  },
  {
   "cell_type": "code",
   "execution_count": 8,
   "metadata": {},
   "outputs": [],
   "source": [
    "x=np.array(data[[\"ones\",\"size\",\"year\"]])\n",
    "y=np.array(data[\"price\"])"
   ]
  },
  {
   "cell_type": "code",
   "execution_count": 9,
   "metadata": {},
   "outputs": [],
   "source": [
    "initial_parameters=np.random.randn(x.shape[1],1)"
   ]
  },
  {
   "cell_type": "code",
   "execution_count": 10,
   "metadata": {},
   "outputs": [
    {
     "name": "stdout",
     "output_type": "stream",
     "text": [
      "(100, 3) (100,) (3, 1)\n"
     ]
    }
   ],
   "source": [
    "print(x.shape,y.shape,initial_parameters.shape)"
   ]
  },
  {
   "cell_type": "code",
   "execution_count": 11,
   "metadata": {},
   "outputs": [
    {
     "data": {
      "text/plain": [
       "(3, 1)"
      ]
     },
     "execution_count": 11,
     "metadata": {},
     "output_type": "execute_result"
    }
   ],
   "source": [
    "initial_parameters.shape"
   ]
  },
  {
   "cell_type": "code",
   "execution_count": 12,
   "metadata": {
    "scrolled": true
   },
   "outputs": [],
   "source": [
    "final_parameters,cost=gradient_descent(x,y,initial_parameters,0.0000001,101)"
   ]
  },
  {
   "cell_type": "code",
   "execution_count": 13,
   "metadata": {},
   "outputs": [
    {
     "data": {
      "text/plain": [
       "array([[-1.81782453e-01, -1.83092385e-01, -1.70971374e-01,\n",
       "        -1.43635470e-01, -1.30515013e-01, -1.79329191e-01,\n",
       "        -1.74741085e-01, -1.95172321e-01, -1.59666080e-01,\n",
       "        -1.85366222e-01, -1.71444663e-01, -1.22264895e-01,\n",
       "        -1.86087956e-01, -1.39637224e-01, -1.33824281e-01,\n",
       "        -1.34736106e-01, -1.78578021e-01, -1.81813526e-01,\n",
       "        -1.83807502e-01, -1.66906121e-01, -1.74056480e-01,\n",
       "        -1.96068344e-01, -1.41050193e-01, -1.93403004e-01,\n",
       "        -1.96924776e-01, -1.52486819e-01, -1.73218270e-01,\n",
       "        -1.42356596e-01, -1.67284648e-01, -1.51008685e-01,\n",
       "        -1.66399125e-01, -1.83807425e-01, -1.87854268e-01,\n",
       "        -1.91568700e-01, -1.70149477e-01, -1.66315676e-01,\n",
       "        -1.73804933e-01, -1.81970041e-01, -1.68380381e-01,\n",
       "        -1.79169941e-01, -1.64477400e-01, -1.85631832e-01,\n",
       "        -1.69663487e-01, -1.40567322e-01, -1.68362265e-01,\n",
       "        -1.66758848e-01, -1.88640159e-01, -1.89217118e-01,\n",
       "        -1.76409321e-01, -1.75359320e-01, -1.83760856e-01,\n",
       "        -1.45505978e-01, -1.76224553e-01, -1.73737035e-01,\n",
       "        -1.76911862e-01, -1.20916227e-01, -1.62123841e-01,\n",
       "        -1.45009588e-01, -1.59763015e-01, -1.77893650e-01,\n",
       "        -1.77926502e-01, -1.75156363e-01, -1.53136980e-01,\n",
       "        -1.58789185e-01, -1.66225996e-01, -1.65724682e-01,\n",
       "        -1.54147713e-01, -1.73233480e-01, -1.68010722e-01,\n",
       "        -1.31465936e-01, -1.72056934e-01, -1.93830745e-01,\n",
       "        -1.67018198e-01, -1.86944395e-01, -1.83153740e-01,\n",
       "        -1.69935043e-01, -1.48008020e-01, -1.51722649e-01,\n",
       "        -1.77841677e-01, -1.56949814e-01, -1.94123314e-01,\n",
       "        -1.41948597e-01, -1.91700739e-01, -1.70729796e-01,\n",
       "        -1.65950915e-01, -1.49348509e-01, -2.00070180e-01,\n",
       "        -1.60545649e-01, -1.86903164e-01, -1.54316599e-01,\n",
       "        -1.77937508e-01, -1.58071840e-01, -1.67190860e-01,\n",
       "        -1.74385718e-01, -1.75346900e-01, -1.77635940e-01,\n",
       "        -1.64368431e-01, -1.47661739e-01, -1.83877593e-01,\n",
       "        -1.72503153e-01],\n",
       "       [ 2.04018874e+01,  1.99117900e+01,  2.44467393e+01,\n",
       "         3.46741809e+01,  3.95830620e+01,  2.13197498e+01,\n",
       "         2.30363413e+01,  1.53922089e+01,  2.86764963e+01,\n",
       "         1.90610580e+01,  2.42696632e+01,  4.26697570e+01,\n",
       "         1.87910286e+01,  3.61700826e+01,  3.83449340e+01,\n",
       "         3.80037842e+01,  2.16007920e+01,  2.03902618e+01,\n",
       "         1.96442365e+01,  2.59677109e+01,  2.32924791e+01,\n",
       "         1.50569712e+01,  3.56414348e+01,  1.60541804e+01,\n",
       "         1.47365462e+01,  3.13625413e+01,  2.36060865e+01,\n",
       "         3.51526581e+01,  2.58260890e+01,  3.19155696e+01,\n",
       "         2.61573982e+01,  1.96442653e+01,  1.81301816e+01,\n",
       "         1.67404660e+01,  2.47542432e+01,  2.61886195e+01,\n",
       "         2.33865930e+01,  2.03317033e+01,  2.54161319e+01,\n",
       "         2.13793314e+01,  2.68763913e+01,  1.89616825e+01,\n",
       "         2.49360713e+01,  3.58220962e+01,  2.54229098e+01,\n",
       "         2.60228114e+01,  1.78361486e+01,  1.76202854e+01,\n",
       "         2.24121884e+01,  2.28050354e+01,  1.96616887e+01,\n",
       "         3.39743498e+01,  2.24813172e+01,  2.34119959e+01,\n",
       "         2.22241679e+01,  4.31743472e+01,  2.77569508e+01,\n",
       "         3.41600689e+01,  2.86402289e+01,  2.18568422e+01,\n",
       "         2.18445511e+01,  2.28809694e+01,  3.11192903e+01,\n",
       "         2.90045773e+01,  2.62221724e+01,  2.64097340e+01,\n",
       "         3.07411352e+01,  2.36003961e+01,  2.55544360e+01,\n",
       "         3.92272840e+01,  2.40405883e+01,  1.58941454e+01,\n",
       "         2.59257784e+01,  1.84706009e+01,  1.98888349e+01,\n",
       "         2.48344717e+01,  3.30382371e+01,  3.16484477e+01,\n",
       "         2.18762874e+01,  2.96927588e+01,  1.57846838e+01,\n",
       "         3.53053065e+01,  1.66910648e+01,  2.45371229e+01,\n",
       "         2.63250913e+01,  3.25367070e+01,  1.35597261e+01,\n",
       "         2.83474147e+01,  1.84860272e+01,  3.06779485e+01,\n",
       "         2.18404331e+01,  2.92729645e+01,  2.58611787e+01,\n",
       "         2.31692983e+01,  2.28096821e+01,  2.19532617e+01,\n",
       "         2.69171611e+01,  3.31677943e+01,  1.96180128e+01,\n",
       "         2.38736400e+01],\n",
       "       [ 1.07616379e+02,  1.04979587e+02,  1.29378246e+02,\n",
       "         1.84403307e+02,  2.10813771e+02,  1.12554606e+02,\n",
       "         1.21790108e+02,  8.06636106e+01,  1.52134928e+02,\n",
       "         1.00402530e+02,  1.28425551e+02,  2.27420621e+02,\n",
       "         9.89497341e+01,  1.92451467e+02,  2.04152470e+02,\n",
       "         2.02317037e+02,  1.14066652e+02,  1.07553831e+02,\n",
       "         1.03540112e+02,  1.37561285e+02,  1.23168165e+02,\n",
       "         7.88599845e+01,  1.89607268e+02,  8.42251092e+01,\n",
       "         7.71360535e+01,  1.66586224e+02,  1.24855417e+02,\n",
       "         1.86977581e+02,  1.36799340e+02,  1.69561594e+02,\n",
       "         1.38581829e+02,  1.03540266e+02,  9.53942849e+01,\n",
       "         8.79174214e+01,  1.31032660e+02,  1.38749804e+02,\n",
       "         1.23674511e+02,  1.07238779e+02,  1.34593713e+02,\n",
       "         1.12875164e+02,  1.42450112e+02,  9.98678759e+01,\n",
       "         1.32010920e+02,  1.90579251e+02,  1.34630179e+02,\n",
       "         1.37857733e+02,  9.38123464e+01,  9.26509725e+01,\n",
       "         1.18432078e+02,  1.20545650e+02,  1.03634007e+02,\n",
       "         1.80638118e+02,  1.18804001e+02,  1.23811182e+02,\n",
       "         1.17420502e+02,  2.30135386e+02,  1.47187645e+02,\n",
       "         1.81637313e+02,  1.51939804e+02,  1.15444239e+02,\n",
       "         1.15378111e+02,  1.20954185e+02,  1.65277500e+02,\n",
       "         1.53900050e+02,  1.38930323e+02,  1.39939431e+02,\n",
       "         1.63242973e+02,  1.24824801e+02,  1.35337808e+02,\n",
       "         2.08899636e+02,  1.27193097e+02,  8.33640986e+01,\n",
       "         1.37335682e+02,  9.72257884e+01,  1.04856085e+02,\n",
       "         1.31464300e+02,  1.75601702e+02,  1.68124441e+02,\n",
       "         1.15548856e+02,  1.57602562e+02,  8.27751801e+01,\n",
       "         1.87798851e+02,  8.76516363e+01,  1.29864522e+02,\n",
       "         1.39484042e+02,  1.72903399e+02,  7.08045977e+01,\n",
       "         1.50364423e+02,  9.73087842e+01,  1.62903020e+02,\n",
       "         1.15355955e+02,  1.55344010e+02,  1.36988127e+02,\n",
       "         1.22505435e+02,  1.20570650e+02,  1.15962989e+02,\n",
       "         1.42669460e+02,  1.76298737e+02,  1.03399024e+02,\n",
       "         1.26294892e+02]])"
      ]
     },
     "execution_count": 13,
     "metadata": {},
     "output_type": "execute_result"
    }
   ],
   "source": [
    "final_parameters"
   ]
  },
  {
   "cell_type": "code",
   "execution_count": null,
   "metadata": {},
   "outputs": [],
   "source": []
  }
 ],
 "metadata": {
  "kernelspec": {
   "display_name": "Python 3",
   "language": "python",
   "name": "python3"
  },
  "language_info": {
   "codemirror_mode": {
    "name": "ipython",
    "version": 3
   },
   "file_extension": ".py",
   "mimetype": "text/x-python",
   "name": "python",
   "nbconvert_exporter": "python",
   "pygments_lexer": "ipython3",
   "version": "3.7.4"
  }
 },
 "nbformat": 4,
 "nbformat_minor": 2
}
